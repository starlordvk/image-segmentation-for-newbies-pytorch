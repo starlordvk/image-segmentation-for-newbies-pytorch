{
 "cells": [
  {
   "cell_type": "code",
   "execution_count": 1,
   "metadata": {},
   "outputs": [
    {
     "name": "stdout",
     "output_type": "stream",
     "text": [
      "Total Images in train dataset =  2975\n",
      "Total Images in val dataset =  500\n",
      "Total Images in test dataset =  1525\n",
      "Shape of image =  torch.Size([32, 3, 1024, 2048])\n",
      "Shape of smnt =  torch.Size([32, 4, 1024, 2048])\n",
      "Shape of image =  torch.Size([32, 3, 1024, 2048])\n",
      "Shape of smnt =  torch.Size([32, 4, 1024, 2048])\n",
      "Shape of image =  torch.Size([32, 3, 1024, 2048])\n",
      "Shape of smnt =  torch.Size([32, 4, 1024, 2048])\n"
     ]
    }
   ],
   "source": [
    "import os\n",
    "import os.path as osp\n",
    "import numpy as np\n",
    "import math\n",
    "\n",
    "from tqdm import tqdm\n",
    "from PIL import Image\n",
    "from sklearn.metrics import roc_auc_score\n",
    "\n",
    "import torch\n",
    "import torch.nn as nn\n",
    "import torch.nn.functional as F\n",
    "import torch.optim as optim\n",
    "from torch.utils.data import Dataset, DataLoader\n",
    "\n",
    "import torchvision\n",
    "import torchvision.transforms as transforms\n",
    "\n",
    "from datasets.cityscapes import trainDataset, valDataset, testDataset"
   ]
  },
  {
   "cell_type": "code",
   "execution_count": 2,
   "metadata": {},
   "outputs": [
    {
     "name": "stdout",
     "output_type": "stream",
     "text": [
      "Total Images in train dataset =  2975\n",
      "Total Images in val dataset =  500\n",
      "Total Images in test dataset =  1525\n",
      "Shape of image =  torch.Size([32, 3, 1024, 2048])\n",
      "Shape of smnt =  torch.Size([32, 4, 1024, 2048])\n",
      "Shape of image =  torch.Size([32, 3, 1024, 2048])\n",
      "Shape of smnt =  torch.Size([32, 4, 1024, 2048])\n",
      "Shape of image =  torch.Size([32, 3, 1024, 2048])\n",
      "Shape of smnt =  torch.Size([32, 4, 1024, 2048])\n"
     ]
    }
   ],
   "source": [
    "train_dataloader = DataLoader(trainDataset, shuffle = True, batch_size = 32)\n",
    "test_dataloader = DataLoader(valDataset, shuffle = True, batch_size = 32)\n",
    "val_dataloader = DataLoader(testDataset, shuffle = True, batch_size = 32)\n",
    "\n",
    "for i, (img, smnt) in enumerate(train_dataloader):\n",
    "    print(\"Shape of image = \", img.shape)\n",
    "    print(\"Shape of smnt = \", smnt.shape)\n",
    "\n",
    "    if i == 2:\n",
    "        break"
   ]
  },
  {
   "cell_type": "code",
   "execution_count": null,
   "metadata": {},
   "outputs": [],
   "source": []
  }
 ],
 "metadata": {
  "interpreter": {
   "hash": "fc1c17ed6e82574d955cd1964c72537b0ce70623a76e49c79653b7a660047c1d"
  },
  "kernelspec": {
   "display_name": "Python 3.9.12 ('base')",
   "language": "python",
   "name": "python3"
  },
  "language_info": {
   "codemirror_mode": {
    "name": "ipython",
    "version": 3
   },
   "file_extension": ".py",
   "mimetype": "text/x-python",
   "name": "python",
   "nbconvert_exporter": "python",
   "pygments_lexer": "ipython3",
   "version": "3.9.13"
  },
  "orig_nbformat": 4
 },
 "nbformat": 4,
 "nbformat_minor": 2
}
